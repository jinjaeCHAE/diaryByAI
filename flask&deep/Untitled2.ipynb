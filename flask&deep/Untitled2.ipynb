{
 "cells": [
  {
   "cell_type": "code",
   "execution_count": 1,
   "metadata": {},
   "outputs": [],
   "source": [
    "import papago"
   ]
  },
  {
   "cell_type": "code",
   "execution_count": 3,
   "metadata": {},
   "outputs": [],
   "source": [
    "t = papago.Translator(client_id='c0g2APLkKGr6vd1AlCmh',client_secret='VwFjRq2R7X')"
   ]
  },
  {
   "cell_type": "code",
   "execution_count": 4,
   "metadata": {},
   "outputs": [
    {
     "data": {
      "text/plain": [
       "<papago.response.Response at 0x1afa119bac8>"
      ]
     },
     "execution_count": 4,
     "metadata": {},
     "output_type": "execute_result"
    }
   ],
   "source": [
    "t.translate('안녕')"
   ]
  },
  {
   "cell_type": "code",
   "execution_count": 5,
   "metadata": {},
   "outputs": [],
   "source": [
    "a = t.translate('안녕')"
   ]
  },
  {
   "cell_type": "code",
   "execution_count": 10,
   "metadata": {},
   "outputs": [
    {
     "data": {
      "text/plain": [
       "'Hi.'"
      ]
     },
     "execution_count": 10,
     "metadata": {},
     "output_type": "execute_result"
    }
   ],
   "source": [
    "a.text"
   ]
  },
  {
   "cell_type": "code",
   "execution_count": 11,
   "metadata": {},
   "outputs": [
    {
     "name": "stdout",
     "output_type": "stream",
     "text": [
      "downloading tree from https://storage.googleapis.com/quickdraw_dataset/full/binary/tree.bin\n",
      "download complete\n",
      "loading tree drawings\n",
      "load complete\n"
     ]
    }
   ],
   "source": [
    "from quickdraw import QuickDrawData\n",
    "qd = QuickDrawData()\n",
    "tree = qd.get_drawing(\"tree\")"
   ]
  },
  {
   "cell_type": "code",
   "execution_count": 16,
   "metadata": {},
   "outputs": [],
   "source": [
    "image = tree.get_image()"
   ]
  },
  {
   "cell_type": "code",
   "execution_count": 14,
   "metadata": {},
   "outputs": [],
   "source": [
    "import base64\n",
    "from io import BytesIO"
   ]
  },
  {
   "cell_type": "code",
   "execution_count": 17,
   "metadata": {},
   "outputs": [
    {
     "name": "stdout",
     "output_type": "stream",
     "text": [
      "b'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'\n"
     ]
    }
   ],
   "source": [
    "buffered = BytesIO()\n",
    "image.save(buffered, format=\"JPEG\")\n",
    "img_str = base64.b64encode(buffered.getvalue())\n",
    "print(img_str)"
   ]
  },
  {
   "cell_type": "code",
   "execution_count": null,
   "metadata": {},
   "outputs": [],
   "source": []
  }
 ],
 "metadata": {
  "kernelspec": {
   "display_name": "Python 3",
   "language": "python",
   "name": "python3"
  },
  "language_info": {
   "codemirror_mode": {
    "name": "ipython",
    "version": 3
   },
   "file_extension": ".py",
   "mimetype": "text/x-python",
   "name": "python",
   "nbconvert_exporter": "python",
   "pygments_lexer": "ipython3",
   "version": "3.7.9"
  }
 },
 "nbformat": 4,
 "nbformat_minor": 4
}
