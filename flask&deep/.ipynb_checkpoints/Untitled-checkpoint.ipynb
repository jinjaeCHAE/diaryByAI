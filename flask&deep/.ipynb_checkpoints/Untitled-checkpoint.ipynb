{
 "cells": [
  {
   "cell_type": "code",
   "execution_count": 1,
   "metadata": {},
   "outputs": [],
   "source": [
    "import math\n",
    "\n",
    "import gluonnlp as nlp\n",
    "import mxnet as mx\n",
    "import pandas as pd\n",
    "from gluonnlp.data import SentencepieceTokenizer\n",
    "from kogpt2.mxnet_kogpt2 import get_mxnet_kogpt2_model\n",
    "from kogpt2.utils import get_tokenizer\n",
    "from mxnet import gluon, nd\n",
    "from mxnet.gluon import nn"
   ]
  },
  {
   "cell_type": "code",
   "execution_count": 2,
   "metadata": {},
   "outputs": [],
   "source": [
    "U_TKN = '<usr>'\n",
    "S_TKN = '<sys>'\n",
    "BOS = '<s>'\n",
    "EOS = '</s>'\n",
    "MASK = '<unused0>'\n",
    "SENT = '<unused1>'"
   ]
  },
  {
   "cell_type": "code",
   "execution_count": 3,
   "metadata": {},
   "outputs": [],
   "source": [
    "class KoGPT2Chat(nn.HybridBlock):\n",
    "    def __init__(self, kogpt2, prefix=None, params=None):\n",
    "        super(KoGPT2Chat, self).__init__(prefix=prefix, params=params)\n",
    "        self.kogpt2 = kogpt2\n",
    "\n",
    "    def hybrid_forward(self, F, inputs):\n",
    "        # (batch, seq_len, hiddens)\n",
    "        output, _ = self.kogpt2(inputs)\n",
    "        return output\n",
    "\n",
    "\n",
    "if mx.context.num_gpus() > 0:\n",
    "    ctx = mx.gpu()\n",
    "else:\n",
    "    ctx = mx.cpu()"
   ]
  },
  {
   "cell_type": "code",
   "execution_count": 4,
   "metadata": {},
   "outputs": [],
   "source": [
    "def chat(model_params, sent='0'):\n",
    "    tok_path = get_tokenizer()\n",
    "    model, vocab = get_mxnet_kogpt2_model(ctx=ctx)\n",
    "    tok = SentencepieceTokenizer(tok_path, num_best=0, alpha=0)\n",
    "    kogptqa = KoGPT2Chat(model)\n",
    "    kogptqa.load_parameters(model_params, ctx=ctx)\n",
    "    sent_tokens = tok(sent)\n",
    "    cnt=0\n",
    "    while 1:\n",
    "        cnt+=1\n",
    "        if cnt>50:\n",
    "            break\n",
    "        q = input('user > ').strip()\n",
    "        if q == 'quit':\n",
    "            break\n",
    "        q_tok = tok(q)\n",
    "        a = ''\n",
    "        a_tok = []\n",
    "        while 1:\n",
    "            input_ids = mx.nd.array([vocab[U_TKN]] + vocab[q_tok] +\n",
    "                                    vocab[EOS, SENT] + vocab[sent_tokens] +\n",
    "                                    vocab[EOS, S_TKN] +\n",
    "                                    vocab[a_tok]).expand_dims(axis=0)\n",
    "            pred = kogptqa(input_ids.as_in_context(ctx))\n",
    "            gen = vocab.to_tokens(\n",
    "                mx.nd.argmax(\n",
    "                    pred,\n",
    "                    axis=-1).squeeze().astype('int').asnumpy().tolist())[-1]\n",
    "            if gen == EOS:\n",
    "                break\n",
    "            a += gen.replace('▁', ' ')\n",
    "            a_tok = tok(a)\n",
    "        print(\"Simsimi > {}\".format(a.strip()))"
   ]
  },
  {
   "cell_type": "code",
   "execution_count": null,
   "metadata": {},
   "outputs": [
    {
     "name": "stdout",
     "output_type": "stream",
     "text": [
      "[██████████████████████████████████████████████████]\n",
      "[██████████████████████████████████████████████████]\n",
      "using cached model\n",
      "user > 안녕,나,사랑\n",
      "Simsimi > 안녕 나 사랑해줘\n",
      "user > 안녕,나,사랑\n",
      "Simsimi > 안녕 나 사랑해줘\n"
     ]
    }
   ],
   "source": [
    "chat(\"kogpt2_chat.params\")"
   ]
  },
  {
   "cell_type": "code",
   "execution_count": null,
   "metadata": {},
   "outputs": [],
   "source": []
  }
 ],
 "metadata": {
  "kernelspec": {
   "display_name": "Python 3",
   "language": "python",
   "name": "python3"
  },
  "language_info": {
   "codemirror_mode": {
    "name": "ipython",
    "version": 3
   },
   "file_extension": ".py",
   "mimetype": "text/x-python",
   "name": "python",
   "nbconvert_exporter": "python",
   "pygments_lexer": "ipython3",
   "version": "3.7.9"
  }
 },
 "nbformat": 4,
 "nbformat_minor": 4
}
